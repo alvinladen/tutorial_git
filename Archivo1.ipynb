{
 "cells": [
  {
   "cell_type": "code",
   "execution_count": null,
   "metadata": {},
   "outputs": [],
   "source": []
  }
 ],
 "metadata": {
  "kernelspec": {
   "display_name": "base",
   "language": "python",
   "name": "python3"
  },
  "language_info": {
   "name": "python",
   "version": "3.9.12 (main, Apr  4 2022, 05:22:27) [MSC v.1916 64 bit (AMD64)]"
  },
  "orig_nbformat": 4,
  "vscode": {
   "interpreter": {
    "hash": "1e4417ba33f2d5ea577e291b2e49a8c23c3b9537d47611156b5cdb1fb6ce1940"
   }
  }
 },
 "nbformat": 4,
 "nbformat_minor": 2
}
